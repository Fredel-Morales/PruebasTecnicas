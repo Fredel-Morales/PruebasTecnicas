{
 "cells": [
  {
   "cell_type": "code",
   "execution_count": null,
   "metadata": {},
   "outputs": [],
   "source": [
    "#----------- Fredel Morales Jimenez ---------------------------\n",
    "#---- Reto 1: Construye un modelo NER -------------------------\n",
    "#-- Importaremos la biblioteca que nos brindará ayuda con la busqueda\n",
    "import spacy"
   ]
  },
  {
   "cell_type": "code",
   "execution_count": null,
   "metadata": {},
   "outputs": [],
   "source": [
    "nlp = spacy.load('es_core-news-md')"
   ]
  },
  {
   "cell_type": "code",
   "execution_count": 3,
   "metadata": {},
   "outputs": [],
   "source": [
    "#-- Cargamos el texto de la normativa para poder hacer la busqueda en el --\n",
    "# Link: https://apps.cjf.gob.mx/normativa/HistoriaLegislativa?cve=2023-6-2-AC&id=5565\n",
    "\n",
    "with open ('normativa.txt', 'r', encoding= 'utf=8') as file:\n",
    "    normativa_text = file.read ()"
   ]
  },
  {
   "cell_type": "code",
   "execution_count": null,
   "metadata": {},
   "outputs": [],
   "source": [
    "doc = nlp(normativa_text)"
   ]
  },
  {
   "cell_type": "code",
   "execution_count": null,
   "metadata": {},
   "outputs": [],
   "source": [
    "#------ Aqui haremos un print para saber la cantidad de tokens y un print para saber la cantidad de entidades---\n",
    "print (len(doc))\n",
    "print (len(doc.ents))"
   ]
  },
  {
   "cell_type": "code",
   "execution_count": null,
   "metadata": {},
   "outputs": [],
   "source": [
    "#----- En esta primera declaración solicitaremos que muestre las entidades encontradas y que las imprima -----\n",
    "print (\"Entidades Nombradas Encontradas:\")\n",
    "for ent in doc.ents:\n",
    "    print(f'{ent.text} ({ent.label_})')"
   ]
  },
  {
   "cell_type": "code",
   "execution_count": null,
   "metadata": {},
   "outputs": [],
   "source": [
    "#-- Filtraremos entidades especificas que nos permitan hacer un analisis con más enfoque del archivo txt ----\n",
    "for ent in doc.ents:\n",
    "    if ent.label_ in [\"GPE\", \"ORG\", \"LAW\", \"DATE\"]:  \n",
    "        print(f\"Texto: {ent.text}, Tipo: {ent.label_}\")"
   ]
  },
  {
   "cell_type": "code",
   "execution_count": null,
   "metadata": {},
   "outputs": [],
   "source": [
    "#--- Para guardar el modelo ------------\n",
    "nlp.to_disk(\"modelo_ner_normativa\")"
   ]
  }
 ],
 "metadata": {
  "kernelspec": {
   "display_name": "Python 3",
   "language": "python",
   "name": "python3"
  },
  "language_info": {
   "codemirror_mode": {
    "name": "ipython",
    "version": 3
   },
   "file_extension": ".py",
   "mimetype": "text/x-python",
   "name": "python",
   "nbconvert_exporter": "python",
   "pygments_lexer": "ipython3",
   "version": "3.13.0"
  }
 },
 "nbformat": 4,
 "nbformat_minor": 2
}
